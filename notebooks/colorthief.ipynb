{
  "nbformat": 4,
  "nbformat_minor": 0,
  "metadata": {
    "colab": {
      "provenance": []
    },
    "kernelspec": {
      "name": "python3",
      "display_name": "Python 3"
    },
    "language_info": {
      "name": "python"
    }
  },
  "cells": [
    {
      "cell_type": "code",
      "execution_count": 1,
      "metadata": {
        "colab": {
          "base_uri": "https://localhost:8080/"
        },
        "id": "Kn9iTWHLCy-0",
        "outputId": "220e4612-ec03-4f3f-ff60-a26f349f6d20"
      },
      "outputs": [
        {
          "output_type": "stream",
          "name": "stdout",
          "text": [
            "Looking in indexes: https://pypi.org/simple, https://us-python.pkg.dev/colab-wheels/public/simple/\n",
            "Collecting colorthief\n",
            "  Downloading colorthief-0.2.1-py2.py3-none-any.whl (6.1 kB)\n",
            "Requirement already satisfied: Pillow in /usr/local/lib/python3.8/dist-packages (from colorthief) (7.1.2)\n",
            "Installing collected packages: colorthief\n",
            "Successfully installed colorthief-0.2.1\n"
          ]
        }
      ],
      "source": [
        "!pip install colorthief"
      ]
    },
    {
      "cell_type": "code",
      "source": [
        "from colorthief import ColorThief"
      ],
      "metadata": {
        "id": "NpG6y0LoC2z8"
      },
      "execution_count": 2,
      "outputs": []
    },
    {
      "cell_type": "code",
      "source": [
        "!wget https://www.zelus.gr/wp-content/uploads/2021/05/Zelus_Logo.png"
      ],
      "metadata": {
        "colab": {
          "base_uri": "https://localhost:8080/"
        },
        "id": "Q53LSwfnC-Q4",
        "outputId": "51277f53-3a73-458c-bbfb-98d16465d5df"
      },
      "execution_count": 3,
      "outputs": [
        {
          "output_type": "stream",
          "name": "stdout",
          "text": [
            "--2023-02-08 12:42:07--  https://www.zelus.gr/wp-content/uploads/2021/05/Zelus_Logo.png\n",
            "Resolving www.zelus.gr (www.zelus.gr)... 31.22.115.40\n",
            "Connecting to www.zelus.gr (www.zelus.gr)|31.22.115.40|:443... connected.\n",
            "HTTP request sent, awaiting response... 200 OK\n",
            "Length: 84649 (83K) [image/png]\n",
            "Saving to: ‘Zelus_Logo.png’\n",
            "\n",
            "Zelus_Logo.png      100%[===================>]  82.67K   226KB/s    in 0.4s    \n",
            "\n",
            "2023-02-08 12:42:09 (226 KB/s) - ‘Zelus_Logo.png’ saved [84649/84649]\n",
            "\n"
          ]
        }
      ]
    },
    {
      "cell_type": "code",
      "source": [
        "ct = ColorThief(\"Zelus_Logo.png\")"
      ],
      "metadata": {
        "id": "isFWQXFCC70Q"
      },
      "execution_count": 4,
      "outputs": []
    },
    {
      "cell_type": "code",
      "source": [
        "dom = ct.get_color(quality=1)"
      ],
      "metadata": {
        "id": "I5Sq2m4fDGSx"
      },
      "execution_count": 5,
      "outputs": []
    },
    {
      "cell_type": "code",
      "source": [
        "dom"
      ],
      "metadata": {
        "colab": {
          "base_uri": "https://localhost:8080/"
        },
        "id": "F6CEngNWDLNt",
        "outputId": "d715fff4-6636-4442-dd9d-a22d5da616aa"
      },
      "execution_count": 6,
      "outputs": [
        {
          "output_type": "execute_result",
          "data": {
            "text/plain": [
              "(60, 123, 171)"
            ]
          },
          "metadata": {},
          "execution_count": 6
        }
      ]
    },
    {
      "cell_type": "code",
      "source": [
        "import matplotlib.pyplot as plt\n",
        "plt.imshow([[dom]])\n",
        "plt.show()"
      ],
      "metadata": {
        "colab": {
          "base_uri": "https://localhost:8080/",
          "height": 265
        },
        "id": "LBgzospbDM88",
        "outputId": "e2fcc8d0-577a-4180-a15a-3cd7f0a4e93f"
      },
      "execution_count": 8,
      "outputs": [
        {
          "output_type": "display_data",
          "data": {
            "text/plain": [
              "<Figure size 432x288 with 1 Axes>"
            ],
            "image/png": "[encoded data removed]"
          },
          "metadata": {
            "needs_background": "light"
          }
        }
      ]
    },
    {
      "cell_type": "code",
      "source": [
        "hexformat = '#%02x%02x%02x' % dom"
      ],
      "metadata": {
        "id": "Xr06rmnXDThf"
      },
      "execution_count": 9,
      "outputs": []
    },
    {
      "cell_type": "code",
      "source": [
        "hexformat"
      ],
      "metadata": {
        "colab": {
          "base_uri": "https://localhost:8080/",
          "height": 35
        },
        "id": "57e62lyvDhHz",
        "outputId": "6ca69b04-4a33-4e98-cc08-4228f4536376"
      },
      "execution_count": 10,
      "outputs": [
        {
          "output_type": "execute_result",
          "data": {
            "text/plain": [
              "'#3c7bab'"
            ],
            "application/vnd.google.colaboratory.intrinsic+json": {
              "type": "string"
            }
          },
          "metadata": {},
          "execution_count": 10
        }
      ]
    }
  ]
}